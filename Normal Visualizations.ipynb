{
 "cells": [
  {
   "cell_type": "code",
   "execution_count": 35,
   "metadata": {
    "collapsed": true
   },
   "outputs": [],
   "source": [
    "%matplotlib inline\n",
    "from pylab import *\n",
    "import pandas as pd\n",
    "from sklearn.decomposition import PCA\n",
    "import yaml"
   ]
  },
  {
   "cell_type": "code",
   "execution_count": 36,
   "metadata": {
    "collapsed": true
   },
   "outputs": [],
   "source": [
    "def sort_lidar_file_and_shape(lidar_file_name, yaml_file_name, width=2088, height=64):\n",
    "    df = pd.read_csv(lidar_file_name,\n",
    "                     names = ['x', 'y', 'z', 'intensity', 'ring', 'rotation', 'revolution'])\n",
    "    \n",
    "    yaml_file = yaml.load(open(yaml_file_name))\n",
    "    \n",
    "    calibration = yaml_file['lasers']\n",
    "    \n",
    "    sorted_lasers = sorted(calibration, key=lambda x: x['vert_correction'], reverse=True)\n",
    "\n",
    "    for i in range(0, 64):\n",
    "        df.loc[df['ring'] == i, 'rotation'] = (df.loc[df['ring'] == i, 'rotation'] \n",
    "                                               + sorted_lasers[i]['rot_correction'] * 18000 / np.pi)\n",
    "    \n",
    "    df.loc[df['rotation'] > 36000, 'rotation'] -= 36000\n",
    "    df.loc[df['rotation'] < 0, 'rotation'] += 36000\n",
    "    \n",
    "    img = np.zeros((height, width, 3))\n",
    "    for i in range(height):\n",
    "        img[i] = df.loc[df['ring'] == i].sort_values(['rotation']).as_matrix()[:, :3]\n",
    "    \n",
    "    return img"
   ]
  },
  {
   "cell_type": "code",
   "execution_count": 37,
   "metadata": {
    "collapsed": true
   },
   "outputs": [],
   "source": [
    "readings_file_name = \"../1504892561136210918-cloudpoint.csv\"\n",
    "calibration_file_name = \"64HDL_S2.yaml\"\n",
    "\n",
    "lidar_table = sort_lidar_file_and_shape(readings_file_name, calibration_file_name)\n",
    "\n",
    "width = 2088\n",
    "height = 64 \n",
    "lidar = lidar_table.reshape((width * height, 3))"
   ]
  },
  {
   "cell_type": "code",
   "execution_count": 38,
   "metadata": {
    "collapsed": true
   },
   "outputs": [],
   "source": [
    "#dists = np.linalg.norm(lidar, axis=-1)\n",
    "#inds = np.where(dists < 10)\n",
    "\n",
    "inds = np.arange(len(lidar))\n",
    " \n",
    "lidar_center = lidar[inds]\n",
    "\n",
    "green = np.array([0, 1, 0])\n",
    "red = np.array([1, 0, 0])\n",
    "blue = np.array([0, 0, 1])"
   ]
  },
  {
   "cell_type": "code",
   "execution_count": 39,
   "metadata": {
    "collapsed": true
   },
   "outputs": [],
   "source": [
    "lidar_file_name = \"lidar_test.csv\"\n",
    "\n",
    "with open(lidar_file_name, 'w') as f:\n",
    "    for rd in lidar_center:\n",
    "        f.write(\"{}, {}, {}\\n\".format(rd[0], rd[1], rd[2]))"
   ]
  },
  {
   "cell_type": "code",
   "execution_count": 40,
   "metadata": {
    "collapsed": true
   },
   "outputs": [],
   "source": [
    "order = np.zeros((height, width, 3))\n",
    "half_width = width / 2\n",
    "for i in range(width):\n",
    "    for j in range(height):\n",
    "        x = i\n",
    "#         if x >= half_width:\n",
    "#             x = width - i\n",
    "#         rgval = x / half_width\n",
    "        rgval = x / width\n",
    "        bval = j / height\n",
    "        order[j, i] = rgval * red + (1 - rgval) * green + bval * blue\n",
    "\n",
    "order = order.reshape((width * height, 3))\n",
    "\n",
    "order_center = order[inds]\n",
    "\n",
    "with open(\"width_order_colors_test.csv\", 'w') as f:\n",
    "    for rd in order_center:\n",
    "        f.write(\"{}, {}, {}\\n\".format(rd[0], rd[1], rd[2]))"
   ]
  },
  {
   "cell_type": "code",
   "execution_count": 41,
   "metadata": {
    "collapsed": true
   },
   "outputs": [],
   "source": [
    "depths = np.linalg.norm(lidar_table, axis=-1)"
   ]
  },
  {
   "cell_type": "code",
   "execution_count": 66,
   "metadata": {
    "scrolled": false
   },
   "outputs": [],
   "source": [
    "normals = np.zeros(lidar_table.shape)\n",
    "neighbor_y_radius = 3\n",
    "\n",
    "neighbor_x_radius = 3\n",
    "\n",
    "#\n",
    "for i in range(neighbor_y_radius, height-neighbor_y_radius - 1):\n",
    "    for j in range(0, width):        \n",
    "        neighbor_y_start = i - neighbor_y_radius\n",
    "        neighbor_y_end = i + neighbor_y_radius + 1\n",
    "        neighbor_x = np.arange(j - neighbor_x_radius, j + neighbor_x_radius + 1)\n",
    "        \n",
    "        neighbors = lidar_table[neighbor_y_start:neighbor_y_end]\n",
    "        neighbors = np.take(neighbors, neighbor_x, axis = 1, mode='wrap')\n",
    "        neighbors = neighbors.reshape(((neighbor_y_radius * 2 + 1) * (neighbor_x_radius * 2 + 1), 3))\n",
    "        \n",
    "        neighbor_depths = depths[neighbor_y_start:neighbor_y_end]\n",
    "        neighbor_depths = np.take(neighbor_depths, neighbor_x, axis=1, mode='wrap')\n",
    "        neighbor_depths = neighbor_depths.ravel()\n",
    "        \n",
    "        valid_neighbors = neighbors[(neighbor_depths - depths[i, j]) <= 0.2]\n",
    "        if valid_neighbors.shape[0] >= 3:\n",
    "            covariance = np.cov(valid_neighbors, rowvar=False)\n",
    "            eigvals, eigvecs = np.linalg.eigh(covariance)\n",
    "            normals[i, j] = eigvecs[:, 0]\n",
    "            normals[i, j] /= np.linalg.norm(normals[i, j])\n",
    "\n",
    "normal_img = normals / 2.0 + 0.5\n",
    "normals = normals.reshape((normals.shape[0] * normals.shape[1], 3))"
   ]
  },
  {
   "cell_type": "code",
   "execution_count": 67,
   "metadata": {},
   "outputs": [],
   "source": [
    "normal_file_name = \"normal_colors_test.csv\"\n",
    "\n",
    "normals_center = normals[inds]\n",
    "with open(normal_file_name, 'w') as f:\n",
    "    temp = normals_center / 2.0 + 0.5\n",
    "    for rd in temp:\n",
    "        f.write(\"{}, {}, {}\\n\".format(rd[0], rd[1], rd[2]))"
   ]
  },
  {
   "cell_type": "code",
   "execution_count": 68,
   "metadata": {
    "collapsed": true
   },
   "outputs": [],
   "source": [
    "normal_ply_file_name = \"normals.ply\"\n",
    "\n",
    "with open(normal_ply_file_name, 'w') as f:\n",
    "    f.write(\"ply\\n\")\n",
    "    f.write(\"format ascii 1.0\\n\")\n",
    "    f.write(\"element vertex {}\\n\".format(len(normals_center)))\n",
    "    f.write(\"property float32 x\\n\")\n",
    "    f.write(\"property float32 y\\n\")\n",
    "    f.write(\"property float32 z\\n\")\n",
    "    f.write(\"property float32 nx\\n\")\n",
    "    f.write(\"property float32 ny\\n\")\n",
    "    f.write(\"property float32 nz\\n\")\n",
    "    f.write(\"end_header\\n\")\n",
    "    for i in range(len(lidar_center)):\n",
    "        f.write(\"{} {} {} {} {} {}\\n\".format(lidar_center[i][0], lidar_center[i][1], lidar_center[i][2],\n",
    "                                             normals_center[i][0], normals_center[i][1], normals_center[i][2]))"
   ]
  },
  {
   "cell_type": "code",
   "execution_count": null,
   "metadata": {},
   "outputs": [],
   "source": [
    "fig, ax = plt.subplots(figsize=(16, 4))\n",
    "ax.imshow(np.rot90(np.rot90(normal_img)))"
   ]
  },
  {
   "cell_type": "code",
   "execution_count": null,
   "metadata": {
    "collapsed": true
   },
   "outputs": [],
   "source": []
  }
 ],
 "metadata": {
  "kernelspec": {
   "display_name": "Python 3",
   "language": "python",
   "name": "python3"
  },
  "language_info": {
   "codemirror_mode": {
    "name": "ipython",
    "version": 3
   },
   "file_extension": ".py",
   "mimetype": "text/x-python",
   "name": "python",
   "nbconvert_exporter": "python",
   "pygments_lexer": "ipython3",
   "version": "3.6.0"
  }
 },
 "nbformat": 4,
 "nbformat_minor": 2
}
