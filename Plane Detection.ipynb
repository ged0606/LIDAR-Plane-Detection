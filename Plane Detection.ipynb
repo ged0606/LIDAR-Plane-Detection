{
 "cells": [
  {
   "cell_type": "code",
   "execution_count": 2,
   "metadata": {
    "collapsed": true
   },
   "outputs": [],
   "source": [
    "from pylab import *\n",
    "import pandas as pd\n",
    "from fastcluster import linkage"
   ]
  },
  {
   "cell_type": "code",
   "execution_count": 3,
   "metadata": {
    "collapsed": true
   },
   "outputs": [],
   "source": [
    "def sort_lidar_file_and_shape(file_name, width=2088, height=64):\n",
    "    df = pd.read_csv(file_name,\n",
    "                     names = ['x', 'y', 'z', 'intensity', 'ring', 'rotation', 'revolution'])\n",
    "    df.sort_values(['rotation', 'ring'], inplace = True)\n",
    "    img = np.zeros((width, height, 3))\n",
    "    for i in range(width):\n",
    "        df_rot_slice = df.iloc[height * i : height * (i + 1)]\n",
    "        img[i] = df_rot_slice.as_matrix()[:, :3]\n",
    "    \n",
    "    lidar_readings = np.rot90(img)\n",
    "    return lidar_readings"
   ]
  },
  {
   "cell_type": "code",
   "execution_count": 4,
   "metadata": {
    "collapsed": true
   },
   "outputs": [],
   "source": [
    "def calculate_normals(lidar_readings, width=2088, height=64):\n",
    "    up_vectors = lidar_readings[1:] - lidar_readings[:lidar_readings.shape[0] - 1]\n",
    "    left_vectors = np.zeros(up_vectors.shape)\n",
    "    left_vectors[:, 1:] = lidar_readings[1:, 1:] - lidar_readings[1:, :lidar_readings.shape[1] - 1]\n",
    "    left_vectors[:, 0] = lidar_readings[1:, 0] - lidar_readings[1:, lidar_readings.shape[1] - 1]\n",
    "    normals = np.cross(up_vectors, left_vectors)\n",
    "\n",
    "    averaged_normals = np.zeros(normals.shape)\n",
    "\n",
    "    for i in range(0, height - 1):\n",
    "        for j in range(0, width):\n",
    "            center_normal = normals[i, j]\n",
    "            avg_normal = np.zeros(3)\n",
    "            count = 0\n",
    "            for di in range(-1, 2):\n",
    "                for dj in range(-1, 2):\n",
    "                    new_i = i + di\n",
    "                    new_j = j + dj\n",
    "                    if new_i >= 0 and new_j >= 0 and new_i < height - 1 and new_j < width:\n",
    "                        adjacent_normal = normals[new_i, new_j]\n",
    "                        if (np.linalg.norm(center_normal - adjacent_normal) < 0.01):\n",
    "                            avg_normal += adjacent_normal\n",
    "                            count += 1\n",
    "            averaged_normals[i, j] = avg_normal / count\n",
    "\n",
    "    normals = averaged_normals.reshape((width * (height - 1), 3))  \n",
    "    #normals = up_vectors.reshape((width * (height - 1), 3))\n",
    "    return normals"
   ]
  },
  {
   "cell_type": "code",
   "execution_count": 5,
   "metadata": {
    "collapsed": true
   },
   "outputs": [],
   "source": [
    "readings_file_name = \"1504892561136210918-cloudpoint.csv\"\n",
    "\n",
    "lidar_table = sort_lidar_file_and_shape(readings_file_name)\n",
    "normals = calculate_normals(lidar_table)\n",
    "\n",
    "lidar = lidar_table[1:].reshape((width * height, 3))"
   ]
  },
  {
   "cell_type": "code",
   "execution_count": null,
   "metadata": {
    "collapsed": true
   },
   "outputs": [],
   "source": [
    "width = 2088\n",
    "height = 63 # Remove top row\n",
    "\n",
    "order = np.zeros((height, width, 3))\n",
    "total = width * height\n",
    "green = np.array([0, 1, 0])\n",
    "red = np.array([1, 0, 0])\n",
    "for i in range(width):\n",
    "    for j in range(height):\n",
    "        val = (j) / height\n",
    "        order[j, i] = val * red + (1 - val) * green\n",
    "\n",
    "order = order.reshape((width * height, 3))"
   ]
  },
  {
   "cell_type": "code",
   "execution_count": 6,
   "metadata": {
    "collapsed": true
   },
   "outputs": [],
   "source": [
    "dists = np.linalg.norm(lidar, axis=-1)\n",
    "inds = np.where(dists < 10)\n",
    " \n",
    "lidar = lidar[inds]\n",
    "normals = normals[inds]"
   ]
  },
  {
   "cell_type": "code",
   "execution_count": null,
   "metadata": {},
   "outputs": [],
   "source": [
    "dendrogram = linkage (normals, method='average', metric='euclidean', preserve_input=True)"
   ]
  }
 ],
 "metadata": {
  "kernelspec": {
   "display_name": "Python 3",
   "language": "python",
   "name": "python3"
  },
  "language_info": {
   "codemirror_mode": {
    "name": "ipython",
    "version": 3
   },
   "file_extension": ".py",
   "mimetype": "text/x-python",
   "name": "python",
   "nbconvert_exporter": "python",
   "pygments_lexer": "ipython3",
   "version": "3.6.0"
  }
 },
 "nbformat": 4,
 "nbformat_minor": 2
}
